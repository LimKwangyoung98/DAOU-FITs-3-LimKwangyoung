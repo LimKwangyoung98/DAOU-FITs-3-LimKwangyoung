{
  "cells": [
    {
      "cell_type": "markdown",
      "metadata": {},
      "source": [
        "# [CS] 250107 실습 13번"
      ]
    },
    {
      "cell_type": "markdown",
      "metadata": {},
      "source": [
        "### 파이썬을 이용한 배열 실습"
      ]
    },
    {
      "cell_type": "markdown",
      "metadata": {
        "id": "uvl428qzXSRF"
      },
      "source": [
        "배열의 요소 추가/삽입"
      ]
    },
    {
      "cell_type": "code",
      "execution_count": null,
      "metadata": {
        "id": "_f2JfnnCXOAE"
      },
      "outputs": [],
      "source": [
        "arr = [1, 2, 3]\n",
        "\n",
        "arr.append(4)  # [1, 2, 3, 4]\n",
        "arr.insert(1, 10)  # [1, 10, 2, 3, 4]\n",
        "arr_ones = [1] * 5  # [1, 1, 1, 1, 1]"
      ]
    },
    {
      "cell_type": "markdown",
      "metadata": {
        "id": "C7ijeTlcXqwc"
      },
      "source": [
        "배열 요소 삭제"
      ]
    },
    {
      "cell_type": "code",
      "execution_count": null,
      "metadata": {
        "id": "seE9LdnAXuE_"
      },
      "outputs": [],
      "source": [
        "arr = [10, 20, 30, 40, 50]\n",
        "\n",
        "arr.remove(30)  # [10, 20, 40, 50]\n",
        "arr.pop()  # [10, 20, 40] (마지막 요소 삭제)\n",
        "arr.pop(0)  # [20, 40] (첫 번째 요소 삭제)"
      ]
    },
    {
      "cell_type": "markdown",
      "metadata": {
        "id": "mf-u8-pvX39P"
      },
      "source": [
        "배열 요소 수정"
      ]
    },
    {
      "cell_type": "code",
      "execution_count": null,
      "metadata": {
        "id": "mbHDKB1AX7Oq"
      },
      "outputs": [],
      "source": [
        "arr = [1, 2, 3, 4, 5]\n",
        "\n",
        "arr[2] = 99  # [1, 2, 99, 4, 5]"
      ]
    },
    {
      "cell_type": "markdown",
      "metadata": {
        "id": "SAck_3VHZvwy"
      },
      "source": [
        "배열 합치기"
      ]
    },
    {
      "cell_type": "code",
      "execution_count": null,
      "metadata": {
        "id": "Dxblik4wZxo1"
      },
      "outputs": [],
      "source": [
        "arr1 = [1, 2, 3]\n",
        "arr2 = [4, 5, 6]\n",
        "\n",
        "arr3 = arr1 + arr2  # [1, 2, 3, 4, 5, 6]\n",
        "arr1.extend(arr2)  # [1, 2, 3, 4, 5, 6]"
      ]
    }
  ],
  "metadata": {
    "colab": {
      "private_outputs": true,
      "provenance": []
    },
    "kernelspec": {
      "display_name": "Python 3",
      "name": "python3"
    },
    "language_info": {
      "name": "python"
    }
  },
  "nbformat": 4,
  "nbformat_minor": 0
}
