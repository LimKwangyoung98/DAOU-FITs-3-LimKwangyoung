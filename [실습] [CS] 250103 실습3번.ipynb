{
  "cells": [
    {
      "cell_type": "markdown",
      "metadata": {},
      "source": [
        "# [CS] 250103 실습 3번"
      ]
    },
    {
      "cell_type": "code",
      "execution_count": null,
      "metadata": {
        "id": "TBgC05XTmOKv"
      },
      "outputs": [],
      "source": [
        "import multiprocessing\n",
        "import time\n",
        "\n",
        "\n",
        "# 각 프로세스에서 실행될 함수\n",
        "def worker(number):\n",
        "   print(f\"Worker {number} 시작\")\n",
        "   time.sleep(2)\n",
        "   print(f\"Worker {number} 끝\")\n",
        "\n",
        "\n",
        "if __name__ == \"__main__\":\n",
        "   # 3개의 프로세스 생성\n",
        "   processes = []\n",
        "   for i in range(3):\n",
        "       process = multiprocessing.Process(target=worker, args=(i,))\n",
        "       processes.append(process)\n",
        "       process.start()  # 프로세스 시작\n",
        "   for process in processes:\n",
        "       process.join()  # 모든 프로세스가 끝날 때까지 대기"
      ]
    }
  ],
  "metadata": {
    "colab": {
      "private_outputs": true,
      "provenance": []
    },
    "kernelspec": {
      "display_name": "Python 3",
      "name": "python3"
    },
    "language_info": {
      "name": "python"
    }
  },
  "nbformat": 4,
  "nbformat_minor": 0
}
