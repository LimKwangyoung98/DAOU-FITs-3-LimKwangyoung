{
  "cells": [
    {
      "cell_type": "markdown",
      "metadata": {
        "id": "prVPNmoXguc3"
      },
      "source": [
        "# [CS] 250109 실습 23번"
      ]
    },
    {
      "cell_type": "markdown",
      "metadata": {
        "id": "FKzUQwR2fyfK"
      },
      "source": [
        "### 고객 이탈 예측 모델 구축 실습"
      ]
    },
    {
      "cell_type": "code",
      "execution_count": null,
      "metadata": {
        "id": "_f2JfnnCXOAE"
      },
      "outputs": [],
      "source": [
        "import pandas as pd\n",
        "import numpy as np"
      ]
    },
    {
      "cell_type": "code",
      "execution_count": null,
      "metadata": {},
      "outputs": [],
      "source": [
        "# 랜덤 데이터 생성\n",
        "np.random.seed(42)\n",
        "\n",
        "# 고객 수\n",
        "n = 1000\n",
        "\n",
        "# 고객 특성 생성\n",
        "data = {\n",
        "    'customer_id': np.arange(1, n + 1),\n",
        "    'age': np.random.randint(18, 70, size=n),  # 18세에서 70세 사이의 나이\n",
        "    'tenure': np.random.randint(1, 10, size=n),  # 가입 기간 (1년에서 10년 사이)\n",
        "    'balance': np.random.uniform(0, 25000, size=n),  # 잔액 (0원에서 25,000원 사이)\n",
        "    'num_products': np.random.randint(1, 4, size=n),  # 사용 중인 제품 수 (1개에서 3개 사이)\n",
        "    'has_credit_card': np.random.choice([0, 1], size=n),  # 신용카드 보유 여부\n",
        "    'is_active_member': np.random.choice([0, 1], size=n),  # 활동 회원 여부\n",
        "    'estimated_salary': np.random.uniform(30000, 150000, size=n),  # 예상 연봉\n",
        "    'churn': np.random.choice([0, 1], p=[0.8, 0.2]),  # 고객 이탈 여부 (20% 이탈)\n",
        "}\n",
        "\n",
        "df = pd.DataFrame(data)\n",
        "print(df.info())"
      ]
    },
    {
      "cell_type": "markdown",
      "metadata": {},
      "source": [
        "![23](images/23.png)"
      ]
    }
  ],
  "metadata": {
    "colab": {
      "private_outputs": true,
      "provenance": []
    },
    "kernelspec": {
      "display_name": "Python 3",
      "name": "python3"
    },
    "language_info": {
      "codemirror_mode": {
        "name": "ipython",
        "version": 3
      },
      "file_extension": ".py",
      "mimetype": "text/x-python",
      "name": "python",
      "nbconvert_exporter": "python",
      "pygments_lexer": "ipython3",
      "version": "3.10.11"
    }
  },
  "nbformat": 4,
  "nbformat_minor": 0
}
