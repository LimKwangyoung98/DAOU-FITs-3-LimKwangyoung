{
  "cells": [
    {
      "cell_type": "markdown",
      "metadata": {},
      "source": [
        "# [CS] 250107 실습 12번"
      ]
    },
    {
      "cell_type": "markdown",
      "metadata": {},
      "source": [
        "### 파이썬을 이용한 배열 실습"
      ]
    },
    {
      "cell_type": "markdown",
      "metadata": {
        "id": "uvl428qzXSRF"
      },
      "source": [
        "배열 초기화"
      ]
    },
    {
      "cell_type": "code",
      "execution_count": null,
      "metadata": {
        "id": "_f2JfnnCXOAE"
      },
      "outputs": [],
      "source": [
        "# 정수로 이루어진 배열 초기화\n",
        "arr = [1, 2, 3, 4, 5]\n",
        "\n",
        "# 특정 값으로 초기화\n",
        "arr_zeros = [0] * 5  # [0, 0, 0, 0, 0]\n",
        "arr_ones = [1] * 5  # [1, 1, 1, 1, 1]"
      ]
    },
    {
      "cell_type": "markdown",
      "metadata": {
        "id": "C7ijeTlcXqwc"
      },
      "source": [
        "배열 요소 접근"
      ]
    },
    {
      "cell_type": "code",
      "execution_count": null,
      "metadata": {
        "id": "seE9LdnAXuE_"
      },
      "outputs": [],
      "source": [
        "arr = [10, 20, 30, 40, 50]\n",
        "\n",
        "print(arr[0])  # 10\n",
        "print(arr[2])  # 30\n",
        "print(arr[-1])  # 50"
      ]
    },
    {
      "cell_type": "markdown",
      "metadata": {
        "id": "mf-u8-pvX39P"
      },
      "source": [
        "배열의 길이(크기) 구하기"
      ]
    },
    {
      "cell_type": "code",
      "execution_count": null,
      "metadata": {
        "id": "mbHDKB1AX7Oq"
      },
      "outputs": [],
      "source": [
        "arr = [1, 2, 3, 4, 5]\n",
        "\n",
        "print(len(arr))  # 5"
      ]
    }
  ],
  "metadata": {
    "colab": {
      "private_outputs": true,
      "provenance": []
    },
    "kernelspec": {
      "display_name": "Python 3",
      "name": "python3"
    },
    "language_info": {
      "name": "python"
    }
  },
  "nbformat": 4,
  "nbformat_minor": 0
}
