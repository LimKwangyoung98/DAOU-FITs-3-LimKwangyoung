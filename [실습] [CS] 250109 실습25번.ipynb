{
  "cells": [
    {
      "cell_type": "markdown",
      "metadata": {
        "id": "prVPNmoXguc3"
      },
      "source": [
        "# [CS] 250109 실습 25번"
      ]
    },
    {
      "cell_type": "markdown",
      "metadata": {
        "id": "FKzUQwR2fyfK"
      },
      "source": [
        "### 데이터 로딩 및 전처리"
      ]
    },
    {
      "cell_type": "code",
      "execution_count": 2,
      "metadata": {
        "id": "_f2JfnnCXOAE"
      },
      "outputs": [],
      "source": [
        "import pandas as pd\n",
        "import numpy as np\n",
        "from sklearn.model_selection import train_test_split\n",
        "from sklearn.preprocessing import StandardScaler\n",
        "from sklearn.metrics import confusion_matrix, classification_report\n",
        "import seaborn as sns\n",
        "import matplotlib as plt"
      ]
    },
    {
      "cell_type": "code",
      "execution_count": 16,
      "metadata": {},
      "outputs": [
        {
          "name": "stdout",
          "output_type": "stream",
          "text": [
            "   customer_id  age  tenure       balance  num_products  has_credit_card  \\\n",
            "0            1   56       3   6151.741470             1                1   \n",
            "1            2   69       3  11917.386876             1                0   \n",
            "2            3   46       9   9859.133095             1                0   \n",
            "3            4   32       7  13735.355961             1                1   \n",
            "4            5   60       5  18671.892903             1                1   \n",
            "\n",
            "   is_active_member  estimated_salary  churn  \n",
            "0                 0      51227.634099      0  \n",
            "1                 1     148480.339030      0  \n",
            "2                 0      83292.426829      0  \n",
            "3                 1      93824.611981      0  \n",
            "4                 0     134834.223448      0  \n",
            "customer_id         0\n",
            "age                 0\n",
            "tenure              0\n",
            "balance             0\n",
            "num_products        0\n",
            "has_credit_card     0\n",
            "is_active_member    0\n",
            "estimated_salary    0\n",
            "churn               0\n",
            "dtype: int64\n"
          ]
        }
      ],
      "source": [
        "# 데이터 로드\n",
        "data = pd.read_csv('customer_churn.csv')\n",
        "\n",
        "# 데이터 확인\n",
        "print(data.head())\n",
        "\n",
        "# 결측값 확인\n",
        "print(data.isnull().sum())"
      ]
    },
    {
      "cell_type": "code",
      "execution_count": 17,
      "metadata": {},
      "outputs": [],
      "source": [
        "# 특징 및 라벨 분리\n",
        "X = data.drop('churn', axis=1)  # 예측할 변수 제외\n",
        "y = data['churn']  # 예측할 변수 (이탈 변수)\n",
        "\n",
        "# 범주형 변수 처리 (이탈 여부)\n",
        "X = pd.get_dummies(X, drop_first=True)\n",
        "\n",
        "# 데이터 분할 (훈련용, 테스트용)\n",
        "X_train, X_test, y_train, y_test = train_test_split(X, y, test_size=0.2, random_state=42)\n",
        "\n",
        "# 데이터 표준화\n",
        "scaler = StandardScaler()\n",
        "X_train = scaler.fit_transform(X_train)\n",
        "X_test = scaler.transform(X_test)"
      ]
    }
  ],
  "metadata": {
    "colab": {
      "private_outputs": true,
      "provenance": []
    },
    "kernelspec": {
      "display_name": "Python 3",
      "name": "python3"
    },
    "language_info": {
      "codemirror_mode": {
        "name": "ipython",
        "version": 3
      },
      "file_extension": ".py",
      "mimetype": "text/x-python",
      "name": "python",
      "nbconvert_exporter": "python",
      "pygments_lexer": "ipython3",
      "version": "3.10.11"
    }
  },
  "nbformat": 4,
  "nbformat_minor": 0
}
