{
  "cells": [
    {
      "cell_type": "markdown",
      "metadata": {
        "id": "prVPNmoXguc3"
      },
      "source": [
        "# [CS] 250108 실습 22번"
      ]
    },
    {
      "cell_type": "markdown",
      "metadata": {
        "id": "FKzUQwR2fyfK"
      },
      "source": [
        "### 단위 테스트 실습"
      ]
    },
    {
      "cell_type": "code",
      "execution_count": null,
      "metadata": {
        "id": "_f2JfnnCXOAE"
      },
      "outputs": [],
      "source": [
        "# mymodule.py\n",
        "\n",
        "def add(a, b):\n",
        "    return a + b\n",
        "\n",
        "\n",
        "def substract(a, b):\n",
        "    return a - b"
      ]
    },
    {
      "cell_type": "code",
      "execution_count": null,
      "metadata": {},
      "outputs": [],
      "source": [
        "# test_math.py\n",
        "\n",
        "import unittest\n",
        "from mymodule import add, substract\n",
        "\n",
        "class TestMatchFunctions(unittest.TestCase):\n",
        "    def test_add(self):\n",
        "        # 1 + 2가 3이어야 한다는 테스트\n",
        "        self.assertEqual(add(1, 2), 3)\n",
        "\n",
        "    def test_substract(self):\n",
        "        # 5 + 3가 2이어야 한다는 테스트\n",
        "        self.assertEqual(substract(5, 3), 2)\n",
        "\n",
        "    def test_add_negative(self):\n",
        "        # (-1) + (-2)가 -3이어야 한다는 테스트\n",
        "        self.assertEqual(add(-1, -2), -3)\n",
        "\n",
        "    def test_substract_negative(self):\n",
        "        # (-5) - (-3)가 -2이어야 한다는 테스트\n",
        "        self.assertEqual(substract(-5, -3), -2)\n",
        "\n",
        "\n",
        "if __name__ == \"__main__\":\n",
        "    # unittest.main()\n",
        "    unittest.main(argv=['first-arg-is-ignored'], exit=False)"
      ]
    }
  ],
  "metadata": {
    "colab": {
      "private_outputs": true,
      "provenance": []
    },
    "kernelspec": {
      "display_name": "Python 3",
      "name": "python3"
    },
    "language_info": {
      "name": "python"
    }
  },
  "nbformat": 4,
  "nbformat_minor": 0
}
